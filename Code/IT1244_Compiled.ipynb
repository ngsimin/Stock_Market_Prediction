{
  "cells": [
    {
      "cell_type": "markdown",
      "metadata": {
        "id": "FPKk0BNdsRnn"
      },
      "source": [
        "# **IT1244 Stock Market Prediction Project Code**\n",
        "- Tutorial 06 Group 04:\n",
        "Ng Simin (A0240646H), Woo Kean Jin Brandon (A0233835A), \n",
        "Muzi Chen (A0240456J), \n",
        "Jonas Lim (A0223850L), Tan Le Jun (A0199755E)\n"
      ]
    },
    {
      "cell_type": "markdown",
      "metadata": {
        "id": "b0nbnu8TsenJ"
      },
      "source": [
        "# Overview\n",
        "\n",
        "1. Importing libraries\n",
        "2. Data Preparation\n",
        "  - 2.1. Non-Binary Data\n",
        "  - 2.2. Binary Data\n",
        "3. Prediction Models\n",
        "  - 3.1. Neural Network (Non-Binary)\n",
        "  - 3.2. Logistic Regression\n",
        "  - 3.3. Stochastic Gradient Descent Classifier\n",
        "  - 3.4. K Nearest Neighbor Classifier\n",
        "4. Tuning Logistic Regression\n",
        "  - 4.1. Solver ('liblinear', 'lbfgs', 'newton-cg')\n",
        "  - 4.2. Proportion of train data and test data (80-20, 70-30, 90-10)"
      ]
    },
    {
      "cell_type": "markdown",
      "metadata": {
        "id": "yBqyfi12t4C3"
      },
      "source": [
        "# 1. Importing Libraries"
      ]
    },
    {
      "cell_type": "code",
      "execution_count": 1,
      "metadata": {
        "id": "NX_eoepKR8h4"
      },
      "outputs": [],
      "source": [
        "import numpy as np\n",
        "import matplotlib.pyplot as plt\n",
        "from pandas import read_csv\n",
        "from sklearn.model_selection import train_test_split\n",
        "from sklearn.datasets import load_iris\n",
        "from sklearn.preprocessing import StandardScaler"
      ]
    },
    {
      "cell_type": "code",
      "execution_count": 2,
      "metadata": {
        "id": "mYhFyswVR8iA"
      },
      "outputs": [],
      "source": [
        "import tensorflow as tf\n",
        "from tensorflow import keras\n",
        "from tensorflow.keras.models import Sequential\n",
        "from tensorflow.keras.layers import Activation, Dense, BatchNormalization, Dropout, Flatten\n",
        "from tensorflow.keras import optimizers"
      ]
    },
    {
      "cell_type": "markdown",
      "metadata": {
        "id": "0nSZ8sMFuCVu"
      },
      "source": [
        "# 2. Data Preparation\n"
      ]
    },
    {
      "cell_type": "markdown",
      "metadata": {
        "id": "33PIaR9indd6"
      },
      "source": [
        "**2.1. Non-binary Data**"
      ]
    },
    {
      "cell_type": "code",
      "execution_count": 3,
      "metadata": {
        "colab": {
          "base_uri": "https://localhost:8080/",
          "height": 299
        },
        "id": "3H0OzwlwwYfp",
        "outputId": "c6fc5255-99d7-44ca-f09b-a312ddc5bfbc"
      },
      "outputs": [
        {
          "data": {
            "text/html": [
              "\n",
              "  <div id=\"df-d8e6d747-7d38-44c7-8b03-ffe33d2af1e2\">\n",
              "    <div class=\"colab-df-container\">\n",
              "      <div>\n",
              "<style scoped>\n",
              "    .dataframe tbody tr th:only-of-type {\n",
              "        vertical-align: middle;\n",
              "    }\n",
              "\n",
              "    .dataframe tbody tr th {\n",
              "        vertical-align: top;\n",
              "    }\n",
              "\n",
              "    .dataframe thead th {\n",
              "        text-align: right;\n",
              "    }\n",
              "</style>\n",
              "<table border=\"1\" class=\"dataframe\">\n",
              "  <thead>\n",
              "    <tr style=\"text-align: right;\">\n",
              "      <th></th>\n",
              "      <th>close_Monday</th>\n",
              "      <th>close_Tuesday</th>\n",
              "      <th>close_Wednesday</th>\n",
              "      <th>close_Thursday</th>\n",
              "      <th>close_Friday</th>\n",
              "      <th>max_Monday</th>\n",
              "      <th>max_Tuesday</th>\n",
              "      <th>max_Wednesday</th>\n",
              "      <th>max_Thursday</th>\n",
              "      <th>max_Friday</th>\n",
              "      <th>...</th>\n",
              "      <th>min_Tuesday</th>\n",
              "      <th>min_Wednesday</th>\n",
              "      <th>min_Thursday</th>\n",
              "      <th>min_Friday</th>\n",
              "      <th>open_Monday</th>\n",
              "      <th>open_Tuesday</th>\n",
              "      <th>open_Wednesday</th>\n",
              "      <th>open_Thursday</th>\n",
              "      <th>open_Friday</th>\n",
              "      <th>next_Fri</th>\n",
              "    </tr>\n",
              "  </thead>\n",
              "  <tbody>\n",
              "    <tr>\n",
              "      <th>0</th>\n",
              "      <td>22.389128</td>\n",
              "      <td>22.145924</td>\n",
              "      <td>22.067240</td>\n",
              "      <td>22.038628</td>\n",
              "      <td>22.031473</td>\n",
              "      <td>22.625179</td>\n",
              "      <td>22.331903</td>\n",
              "      <td>22.174536</td>\n",
              "      <td>22.045780</td>\n",
              "      <td>22.067240</td>\n",
              "      <td>...</td>\n",
              "      <td>22.002861</td>\n",
              "      <td>22.002861</td>\n",
              "      <td>21.816881</td>\n",
              "      <td>21.745352</td>\n",
              "      <td>22.453505</td>\n",
              "      <td>22.324751</td>\n",
              "      <td>22.067240</td>\n",
              "      <td>22.017166</td>\n",
              "      <td>21.917025</td>\n",
              "      <td>21.766809</td>\n",
              "    </tr>\n",
              "    <tr>\n",
              "      <th>1</th>\n",
              "      <td>22.045780</td>\n",
              "      <td>21.781116</td>\n",
              "      <td>21.952789</td>\n",
              "      <td>22.281832</td>\n",
              "      <td>21.766809</td>\n",
              "      <td>22.210300</td>\n",
              "      <td>21.924177</td>\n",
              "      <td>22.017166</td>\n",
              "      <td>22.346209</td>\n",
              "      <td>22.432047</td>\n",
              "      <td>...</td>\n",
              "      <td>21.616594</td>\n",
              "      <td>21.494993</td>\n",
              "      <td>21.816881</td>\n",
              "      <td>21.695278</td>\n",
              "      <td>22.088697</td>\n",
              "      <td>21.859800</td>\n",
              "      <td>21.795422</td>\n",
              "      <td>21.881260</td>\n",
              "      <td>22.331903</td>\n",
              "      <td>20.865522</td>\n",
              "    </tr>\n",
              "    <tr>\n",
              "      <th>2</th>\n",
              "      <td>21.766809</td>\n",
              "      <td>22.031473</td>\n",
              "      <td>21.909870</td>\n",
              "      <td>21.831186</td>\n",
              "      <td>20.865522</td>\n",
              "      <td>22.432047</td>\n",
              "      <td>22.052933</td>\n",
              "      <td>21.938484</td>\n",
              "      <td>22.253220</td>\n",
              "      <td>21.709585</td>\n",
              "      <td>...</td>\n",
              "      <td>21.709585</td>\n",
              "      <td>21.595137</td>\n",
              "      <td>21.587982</td>\n",
              "      <td>20.808298</td>\n",
              "      <td>22.331903</td>\n",
              "      <td>21.716738</td>\n",
              "      <td>21.838341</td>\n",
              "      <td>22.174536</td>\n",
              "      <td>21.709585</td>\n",
              "      <td>20.050072</td>\n",
              "    </tr>\n",
              "    <tr>\n",
              "      <th>3</th>\n",
              "      <td>21.065807</td>\n",
              "      <td>20.951359</td>\n",
              "      <td>20.865522</td>\n",
              "      <td>20.522175</td>\n",
              "      <td>20.050072</td>\n",
              "      <td>21.208870</td>\n",
              "      <td>21.101574</td>\n",
              "      <td>20.951359</td>\n",
              "      <td>21.008583</td>\n",
              "      <td>20.865522</td>\n",
              "      <td>...</td>\n",
              "      <td>20.729614</td>\n",
              "      <td>20.550787</td>\n",
              "      <td>20.379112</td>\n",
              "      <td>19.971388</td>\n",
              "      <td>21.044350</td>\n",
              "      <td>21.008583</td>\n",
              "      <td>20.886980</td>\n",
              "      <td>20.836910</td>\n",
              "      <td>20.693848</td>\n",
              "      <td>20.865522</td>\n",
              "    </tr>\n",
              "    <tr>\n",
              "      <th>4</th>\n",
              "      <td>20.836910</td>\n",
              "      <td>21.101574</td>\n",
              "      <td>21.130186</td>\n",
              "      <td>20.793991</td>\n",
              "      <td>20.865522</td>\n",
              "      <td>20.972818</td>\n",
              "      <td>21.165951</td>\n",
              "      <td>21.380545</td>\n",
              "      <td>21.065807</td>\n",
              "      <td>20.929899</td>\n",
              "      <td>...</td>\n",
              "      <td>20.808298</td>\n",
              "      <td>21.001431</td>\n",
              "      <td>20.701000</td>\n",
              "      <td>20.157368</td>\n",
              "      <td>20.143063</td>\n",
              "      <td>20.901287</td>\n",
              "      <td>21.022890</td>\n",
              "      <td>20.958511</td>\n",
              "      <td>20.679543</td>\n",
              "      <td>21.444921</td>\n",
              "    </tr>\n",
              "  </tbody>\n",
              "</table>\n",
              "<p>5 rows × 21 columns</p>\n",
              "</div>\n",
              "      <button class=\"colab-df-convert\" onclick=\"convertToInteractive('df-d8e6d747-7d38-44c7-8b03-ffe33d2af1e2')\"\n",
              "              title=\"Convert this dataframe to an interactive table.\"\n",
              "              style=\"display:none;\">\n",
              "        \n",
              "  <svg xmlns=\"http://www.w3.org/2000/svg\" height=\"24px\"viewBox=\"0 0 24 24\"\n",
              "       width=\"24px\">\n",
              "    <path d=\"M0 0h24v24H0V0z\" fill=\"none\"/>\n",
              "    <path d=\"M18.56 5.44l.94 2.06.94-2.06 2.06-.94-2.06-.94-.94-2.06-.94 2.06-2.06.94zm-11 1L8.5 8.5l.94-2.06 2.06-.94-2.06-.94L8.5 2.5l-.94 2.06-2.06.94zm10 10l.94 2.06.94-2.06 2.06-.94-2.06-.94-.94-2.06-.94 2.06-2.06.94z\"/><path d=\"M17.41 7.96l-1.37-1.37c-.4-.4-.92-.59-1.43-.59-.52 0-1.04.2-1.43.59L10.3 9.45l-7.72 7.72c-.78.78-.78 2.05 0 2.83L4 21.41c.39.39.9.59 1.41.59.51 0 1.02-.2 1.41-.59l7.78-7.78 2.81-2.81c.8-.78.8-2.07 0-2.86zM5.41 20L4 18.59l7.72-7.72 1.47 1.35L5.41 20z\"/>\n",
              "  </svg>\n",
              "      </button>\n",
              "      \n",
              "  <style>\n",
              "    .colab-df-container {\n",
              "      display:flex;\n",
              "      flex-wrap:wrap;\n",
              "      gap: 12px;\n",
              "    }\n",
              "\n",
              "    .colab-df-convert {\n",
              "      background-color: #E8F0FE;\n",
              "      border: none;\n",
              "      border-radius: 50%;\n",
              "      cursor: pointer;\n",
              "      display: none;\n",
              "      fill: #1967D2;\n",
              "      height: 32px;\n",
              "      padding: 0 0 0 0;\n",
              "      width: 32px;\n",
              "    }\n",
              "\n",
              "    .colab-df-convert:hover {\n",
              "      background-color: #E2EBFA;\n",
              "      box-shadow: 0px 1px 2px rgba(60, 64, 67, 0.3), 0px 1px 3px 1px rgba(60, 64, 67, 0.15);\n",
              "      fill: #174EA6;\n",
              "    }\n",
              "\n",
              "    [theme=dark] .colab-df-convert {\n",
              "      background-color: #3B4455;\n",
              "      fill: #D2E3FC;\n",
              "    }\n",
              "\n",
              "    [theme=dark] .colab-df-convert:hover {\n",
              "      background-color: #434B5C;\n",
              "      box-shadow: 0px 1px 3px 1px rgba(0, 0, 0, 0.15);\n",
              "      filter: drop-shadow(0px 1px 2px rgba(0, 0, 0, 0.3));\n",
              "      fill: #FFFFFF;\n",
              "    }\n",
              "  </style>\n",
              "\n",
              "      <script>\n",
              "        const buttonEl =\n",
              "          document.querySelector('#df-d8e6d747-7d38-44c7-8b03-ffe33d2af1e2 button.colab-df-convert');\n",
              "        buttonEl.style.display =\n",
              "          google.colab.kernel.accessAllowed ? 'block' : 'none';\n",
              "\n",
              "        async function convertToInteractive(key) {\n",
              "          const element = document.querySelector('#df-d8e6d747-7d38-44c7-8b03-ffe33d2af1e2');\n",
              "          const dataTable =\n",
              "            await google.colab.kernel.invokeFunction('convertToInteractive',\n",
              "                                                     [key], {});\n",
              "          if (!dataTable) return;\n",
              "\n",
              "          const docLinkHtml = 'Like what you see? Visit the ' +\n",
              "            '<a target=\"_blank\" href=https://colab.research.google.com/notebooks/data_table.ipynb>data table notebook</a>'\n",
              "            + ' to learn more about interactive tables.';\n",
              "          element.innerHTML = '';\n",
              "          dataTable['output_type'] = 'display_data';\n",
              "          await google.colab.output.renderOutput(dataTable, element);\n",
              "          const docLink = document.createElement('div');\n",
              "          docLink.innerHTML = docLinkHtml;\n",
              "          element.appendChild(docLink);\n",
              "        }\n",
              "      </script>\n",
              "    </div>\n",
              "  </div>\n",
              "  "
            ],
            "text/plain": [
              "   close_Monday  close_Tuesday  close_Wednesday  close_Thursday  close_Friday  \\\n",
              "0     22.389128      22.145924        22.067240       22.038628     22.031473   \n",
              "1     22.045780      21.781116        21.952789       22.281832     21.766809   \n",
              "2     21.766809      22.031473        21.909870       21.831186     20.865522   \n",
              "3     21.065807      20.951359        20.865522       20.522175     20.050072   \n",
              "4     20.836910      21.101574        21.130186       20.793991     20.865522   \n",
              "\n",
              "   max_Monday  max_Tuesday  max_Wednesday  max_Thursday  max_Friday  ...  \\\n",
              "0   22.625179    22.331903      22.174536     22.045780   22.067240  ...   \n",
              "1   22.210300    21.924177      22.017166     22.346209   22.432047  ...   \n",
              "2   22.432047    22.052933      21.938484     22.253220   21.709585  ...   \n",
              "3   21.208870    21.101574      20.951359     21.008583   20.865522  ...   \n",
              "4   20.972818    21.165951      21.380545     21.065807   20.929899  ...   \n",
              "\n",
              "   min_Tuesday  min_Wednesday  min_Thursday  min_Friday  open_Monday  \\\n",
              "0    22.002861      22.002861     21.816881   21.745352    22.453505   \n",
              "1    21.616594      21.494993     21.816881   21.695278    22.088697   \n",
              "2    21.709585      21.595137     21.587982   20.808298    22.331903   \n",
              "3    20.729614      20.550787     20.379112   19.971388    21.044350   \n",
              "4    20.808298      21.001431     20.701000   20.157368    20.143063   \n",
              "\n",
              "   open_Tuesday  open_Wednesday  open_Thursday  open_Friday   next_Fri  \n",
              "0     22.324751       22.067240      22.017166    21.917025  21.766809  \n",
              "1     21.859800       21.795422      21.881260    22.331903  20.865522  \n",
              "2     21.716738       21.838341      22.174536    21.709585  20.050072  \n",
              "3     21.008583       20.886980      20.836910    20.693848  20.865522  \n",
              "4     20.901287       21.022890      20.958511    20.679543  21.444921  \n",
              "\n",
              "[5 rows x 21 columns]"
            ]
          },
          "execution_count": 3,
          "metadata": {},
          "output_type": "execute_result"
        }
      ],
      "source": [
        "data_nonbinary = read_csv('weekly_change_nonbinary.csv')\n",
        "data_nonbinary = data_nonbinary.drop(columns= [\"symbol\", \"week\", \"date\", \"Unnamed: 0\"])\n",
        "data_nonbinary.head()"
      ]
    },
    {
      "cell_type": "code",
      "execution_count": 4,
      "metadata": {
        "id": "0foIGq5PwlLo"
      },
      "outputs": [],
      "source": [
        "train_nonbinary, test_valid_nonbinary =  train_test_split(data_nonbinary, test_size=0.4)\n",
        "test_nonbinary, valid_nonbinary = train_test_split(test_valid_nonbinary, test_size=0.5)\n",
        "\n",
        "trainx_nonbinary, nnTrainy_nonbinary = train_nonbinary.copy().drop(columns = \"next_Fri\"), train_nonbinary[\"next_Fri\"]\n",
        "testx_nonbinary, nnTesty_nonbinary = test_nonbinary.copy().drop(columns = \"next_Fri\"), test_nonbinary[\"next_Fri\"]\n",
        "validx_nonbinary, nnValidy_nonbinary = valid_nonbinary.copy().drop(columns = \"next_Fri\"), valid_nonbinary[\"next_Fri\"]\n",
        "\n",
        "true_friday_price_comparison_nonbinary = test_nonbinary[[\"close_Friday\", \"next_Fri\"]]\n",
        "\n",
        "data = load_iris()\n",
        "scale= StandardScaler()\n",
        "\n",
        "nnTrainx_nonbinary = scale.fit_transform(trainx_nonbinary)\n",
        "nnTestx_nonbinary = scale.fit_transform(testx_nonbinary)\n",
        "nnValidx_nonbinary = scale.fit_transform(validx_nonbinary)"
      ]
    },
    {
      "cell_type": "markdown",
      "metadata": {
        "id": "arMaiHqAoSnS"
      },
      "source": [
        "**2.2. Binary Data**"
      ]
    },
    {
      "cell_type": "code",
      "execution_count": 5,
      "metadata": {
        "colab": {
          "base_uri": "https://localhost:8080/",
          "height": 299
        },
        "id": "4qFAGFSGR8h7",
        "outputId": "43102ebf-d7d1-45e8-b677-45489b75b530"
      },
      "outputs": [
        {
          "data": {
            "text/html": [
              "\n",
              "  <div id=\"df-7f8f0bf6-392d-48ff-aa29-9f0d335b1779\">\n",
              "    <div class=\"colab-df-container\">\n",
              "      <div>\n",
              "<style scoped>\n",
              "    .dataframe tbody tr th:only-of-type {\n",
              "        vertical-align: middle;\n",
              "    }\n",
              "\n",
              "    .dataframe tbody tr th {\n",
              "        vertical-align: top;\n",
              "    }\n",
              "\n",
              "    .dataframe thead th {\n",
              "        text-align: right;\n",
              "    }\n",
              "</style>\n",
              "<table border=\"1\" class=\"dataframe\">\n",
              "  <thead>\n",
              "    <tr style=\"text-align: right;\">\n",
              "      <th></th>\n",
              "      <th>close_Monday</th>\n",
              "      <th>close_Tuesday</th>\n",
              "      <th>close_Wednesday</th>\n",
              "      <th>close_Thursday</th>\n",
              "      <th>close_Friday</th>\n",
              "      <th>max_Monday</th>\n",
              "      <th>max_Tuesday</th>\n",
              "      <th>max_Wednesday</th>\n",
              "      <th>max_Thursday</th>\n",
              "      <th>max_Friday</th>\n",
              "      <th>...</th>\n",
              "      <th>min_Wednesday</th>\n",
              "      <th>min_Thursday</th>\n",
              "      <th>min_Friday</th>\n",
              "      <th>open_Monday</th>\n",
              "      <th>open_Tuesday</th>\n",
              "      <th>open_Wednesday</th>\n",
              "      <th>open_Thursday</th>\n",
              "      <th>open_Friday</th>\n",
              "      <th>next_Fri</th>\n",
              "      <th>y</th>\n",
              "    </tr>\n",
              "  </thead>\n",
              "  <tbody>\n",
              "    <tr>\n",
              "      <th>0</th>\n",
              "      <td>22.389128</td>\n",
              "      <td>22.145924</td>\n",
              "      <td>22.067240</td>\n",
              "      <td>22.038628</td>\n",
              "      <td>22.031473</td>\n",
              "      <td>22.625179</td>\n",
              "      <td>22.331903</td>\n",
              "      <td>22.174536</td>\n",
              "      <td>22.045780</td>\n",
              "      <td>22.067240</td>\n",
              "      <td>...</td>\n",
              "      <td>22.002861</td>\n",
              "      <td>21.816881</td>\n",
              "      <td>21.745352</td>\n",
              "      <td>22.453505</td>\n",
              "      <td>22.324751</td>\n",
              "      <td>22.067240</td>\n",
              "      <td>22.017166</td>\n",
              "      <td>21.917025</td>\n",
              "      <td>21.766809</td>\n",
              "      <td>0</td>\n",
              "    </tr>\n",
              "    <tr>\n",
              "      <th>1</th>\n",
              "      <td>22.045780</td>\n",
              "      <td>21.781116</td>\n",
              "      <td>21.952789</td>\n",
              "      <td>22.281832</td>\n",
              "      <td>21.766809</td>\n",
              "      <td>22.210300</td>\n",
              "      <td>21.924177</td>\n",
              "      <td>22.017166</td>\n",
              "      <td>22.346209</td>\n",
              "      <td>22.432047</td>\n",
              "      <td>...</td>\n",
              "      <td>21.494993</td>\n",
              "      <td>21.816881</td>\n",
              "      <td>21.695278</td>\n",
              "      <td>22.088697</td>\n",
              "      <td>21.859800</td>\n",
              "      <td>21.795422</td>\n",
              "      <td>21.881260</td>\n",
              "      <td>22.331903</td>\n",
              "      <td>20.865522</td>\n",
              "      <td>0</td>\n",
              "    </tr>\n",
              "    <tr>\n",
              "      <th>2</th>\n",
              "      <td>21.766809</td>\n",
              "      <td>22.031473</td>\n",
              "      <td>21.909870</td>\n",
              "      <td>21.831186</td>\n",
              "      <td>20.865522</td>\n",
              "      <td>22.432047</td>\n",
              "      <td>22.052933</td>\n",
              "      <td>21.938484</td>\n",
              "      <td>22.253220</td>\n",
              "      <td>21.709585</td>\n",
              "      <td>...</td>\n",
              "      <td>21.595137</td>\n",
              "      <td>21.587982</td>\n",
              "      <td>20.808298</td>\n",
              "      <td>22.331903</td>\n",
              "      <td>21.716738</td>\n",
              "      <td>21.838341</td>\n",
              "      <td>22.174536</td>\n",
              "      <td>21.709585</td>\n",
              "      <td>20.050072</td>\n",
              "      <td>0</td>\n",
              "    </tr>\n",
              "    <tr>\n",
              "      <th>3</th>\n",
              "      <td>21.065807</td>\n",
              "      <td>20.951359</td>\n",
              "      <td>20.865522</td>\n",
              "      <td>20.522175</td>\n",
              "      <td>20.050072</td>\n",
              "      <td>21.208870</td>\n",
              "      <td>21.101574</td>\n",
              "      <td>20.951359</td>\n",
              "      <td>21.008583</td>\n",
              "      <td>20.865522</td>\n",
              "      <td>...</td>\n",
              "      <td>20.550787</td>\n",
              "      <td>20.379112</td>\n",
              "      <td>19.971388</td>\n",
              "      <td>21.044350</td>\n",
              "      <td>21.008583</td>\n",
              "      <td>20.886980</td>\n",
              "      <td>20.836910</td>\n",
              "      <td>20.693848</td>\n",
              "      <td>20.865522</td>\n",
              "      <td>1</td>\n",
              "    </tr>\n",
              "    <tr>\n",
              "      <th>4</th>\n",
              "      <td>20.836910</td>\n",
              "      <td>21.101574</td>\n",
              "      <td>21.130186</td>\n",
              "      <td>20.793991</td>\n",
              "      <td>20.865522</td>\n",
              "      <td>20.972818</td>\n",
              "      <td>21.165951</td>\n",
              "      <td>21.380545</td>\n",
              "      <td>21.065807</td>\n",
              "      <td>20.929899</td>\n",
              "      <td>...</td>\n",
              "      <td>21.001431</td>\n",
              "      <td>20.701000</td>\n",
              "      <td>20.157368</td>\n",
              "      <td>20.143063</td>\n",
              "      <td>20.901287</td>\n",
              "      <td>21.022890</td>\n",
              "      <td>20.958511</td>\n",
              "      <td>20.679543</td>\n",
              "      <td>21.444921</td>\n",
              "      <td>1</td>\n",
              "    </tr>\n",
              "  </tbody>\n",
              "</table>\n",
              "<p>5 rows × 22 columns</p>\n",
              "</div>\n",
              "      <button class=\"colab-df-convert\" onclick=\"convertToInteractive('df-7f8f0bf6-392d-48ff-aa29-9f0d335b1779')\"\n",
              "              title=\"Convert this dataframe to an interactive table.\"\n",
              "              style=\"display:none;\">\n",
              "        \n",
              "  <svg xmlns=\"http://www.w3.org/2000/svg\" height=\"24px\"viewBox=\"0 0 24 24\"\n",
              "       width=\"24px\">\n",
              "    <path d=\"M0 0h24v24H0V0z\" fill=\"none\"/>\n",
              "    <path d=\"M18.56 5.44l.94 2.06.94-2.06 2.06-.94-2.06-.94-.94-2.06-.94 2.06-2.06.94zm-11 1L8.5 8.5l.94-2.06 2.06-.94-2.06-.94L8.5 2.5l-.94 2.06-2.06.94zm10 10l.94 2.06.94-2.06 2.06-.94-2.06-.94-.94-2.06-.94 2.06-2.06.94z\"/><path d=\"M17.41 7.96l-1.37-1.37c-.4-.4-.92-.59-1.43-.59-.52 0-1.04.2-1.43.59L10.3 9.45l-7.72 7.72c-.78.78-.78 2.05 0 2.83L4 21.41c.39.39.9.59 1.41.59.51 0 1.02-.2 1.41-.59l7.78-7.78 2.81-2.81c.8-.78.8-2.07 0-2.86zM5.41 20L4 18.59l7.72-7.72 1.47 1.35L5.41 20z\"/>\n",
              "  </svg>\n",
              "      </button>\n",
              "      \n",
              "  <style>\n",
              "    .colab-df-container {\n",
              "      display:flex;\n",
              "      flex-wrap:wrap;\n",
              "      gap: 12px;\n",
              "    }\n",
              "\n",
              "    .colab-df-convert {\n",
              "      background-color: #E8F0FE;\n",
              "      border: none;\n",
              "      border-radius: 50%;\n",
              "      cursor: pointer;\n",
              "      display: none;\n",
              "      fill: #1967D2;\n",
              "      height: 32px;\n",
              "      padding: 0 0 0 0;\n",
              "      width: 32px;\n",
              "    }\n",
              "\n",
              "    .colab-df-convert:hover {\n",
              "      background-color: #E2EBFA;\n",
              "      box-shadow: 0px 1px 2px rgba(60, 64, 67, 0.3), 0px 1px 3px 1px rgba(60, 64, 67, 0.15);\n",
              "      fill: #174EA6;\n",
              "    }\n",
              "\n",
              "    [theme=dark] .colab-df-convert {\n",
              "      background-color: #3B4455;\n",
              "      fill: #D2E3FC;\n",
              "    }\n",
              "\n",
              "    [theme=dark] .colab-df-convert:hover {\n",
              "      background-color: #434B5C;\n",
              "      box-shadow: 0px 1px 3px 1px rgba(0, 0, 0, 0.15);\n",
              "      filter: drop-shadow(0px 1px 2px rgba(0, 0, 0, 0.3));\n",
              "      fill: #FFFFFF;\n",
              "    }\n",
              "  </style>\n",
              "\n",
              "      <script>\n",
              "        const buttonEl =\n",
              "          document.querySelector('#df-7f8f0bf6-392d-48ff-aa29-9f0d335b1779 button.colab-df-convert');\n",
              "        buttonEl.style.display =\n",
              "          google.colab.kernel.accessAllowed ? 'block' : 'none';\n",
              "\n",
              "        async function convertToInteractive(key) {\n",
              "          const element = document.querySelector('#df-7f8f0bf6-392d-48ff-aa29-9f0d335b1779');\n",
              "          const dataTable =\n",
              "            await google.colab.kernel.invokeFunction('convertToInteractive',\n",
              "                                                     [key], {});\n",
              "          if (!dataTable) return;\n",
              "\n",
              "          const docLinkHtml = 'Like what you see? Visit the ' +\n",
              "            '<a target=\"_blank\" href=https://colab.research.google.com/notebooks/data_table.ipynb>data table notebook</a>'\n",
              "            + ' to learn more about interactive tables.';\n",
              "          element.innerHTML = '';\n",
              "          dataTable['output_type'] = 'display_data';\n",
              "          await google.colab.output.renderOutput(dataTable, element);\n",
              "          const docLink = document.createElement('div');\n",
              "          docLink.innerHTML = docLinkHtml;\n",
              "          element.appendChild(docLink);\n",
              "        }\n",
              "      </script>\n",
              "    </div>\n",
              "  </div>\n",
              "  "
            ],
            "text/plain": [
              "   close_Monday  close_Tuesday  close_Wednesday  close_Thursday  close_Friday  \\\n",
              "0     22.389128      22.145924        22.067240       22.038628     22.031473   \n",
              "1     22.045780      21.781116        21.952789       22.281832     21.766809   \n",
              "2     21.766809      22.031473        21.909870       21.831186     20.865522   \n",
              "3     21.065807      20.951359        20.865522       20.522175     20.050072   \n",
              "4     20.836910      21.101574        21.130186       20.793991     20.865522   \n",
              "\n",
              "   max_Monday  max_Tuesday  max_Wednesday  max_Thursday  max_Friday  ...  \\\n",
              "0   22.625179    22.331903      22.174536     22.045780   22.067240  ...   \n",
              "1   22.210300    21.924177      22.017166     22.346209   22.432047  ...   \n",
              "2   22.432047    22.052933      21.938484     22.253220   21.709585  ...   \n",
              "3   21.208870    21.101574      20.951359     21.008583   20.865522  ...   \n",
              "4   20.972818    21.165951      21.380545     21.065807   20.929899  ...   \n",
              "\n",
              "   min_Wednesday  min_Thursday  min_Friday  open_Monday  open_Tuesday  \\\n",
              "0      22.002861     21.816881   21.745352    22.453505     22.324751   \n",
              "1      21.494993     21.816881   21.695278    22.088697     21.859800   \n",
              "2      21.595137     21.587982   20.808298    22.331903     21.716738   \n",
              "3      20.550787     20.379112   19.971388    21.044350     21.008583   \n",
              "4      21.001431     20.701000   20.157368    20.143063     20.901287   \n",
              "\n",
              "   open_Wednesday  open_Thursday  open_Friday   next_Fri  y  \n",
              "0       22.067240      22.017166    21.917025  21.766809  0  \n",
              "1       21.795422      21.881260    22.331903  20.865522  0  \n",
              "2       21.838341      22.174536    21.709585  20.050072  0  \n",
              "3       20.886980      20.836910    20.693848  20.865522  1  \n",
              "4       21.022890      20.958511    20.679543  21.444921  1  \n",
              "\n",
              "[5 rows x 22 columns]"
            ]
          },
          "execution_count": 5,
          "metadata": {},
          "output_type": "execute_result"
        }
      ],
      "source": [
        "# Importing data\n",
        "data = read_csv('weekly_change_tgt.csv')\n",
        "data = data.drop(columns= [\"Unnamed: 0\", \"date\", \"symbol\", \"week\"])\n",
        "data.head()"
      ]
    },
    {
      "cell_type": "code",
      "execution_count": 6,
      "metadata": {
        "id": "sJXNliu7R8h8"
      },
      "outputs": [],
      "source": [
        "# Splitting the train and test dataset\n",
        "\n",
        "## fulltrain and fulltest contains next_Fri closing price which will not be used to train the model\n",
        "fulltrain, fulltest = train_test_split(data, test_size=0.2, random_state = 42)\n",
        "trainx, trainy = fulltrain.copy().drop(columns = ([\"next_Fri\",\"y\"])), fulltrain[\"y\"]\n",
        "testx, testy = fulltest.copy().drop(columns = ([\"next_Fri\",\"y\"])), fulltest[\"y\"]\n",
        "true_friday_price_comparison = fulltest[[\"close_Friday\", \"next_Fri\"]]\n",
        "\n",
        "# Standardizing the x data\n",
        "sctrainx = scale.fit_transform(trainx)\n",
        "sctestx = scale.fit_transform(testx)\n",
        "\n",
        "# Duplicate data for Logisitic Regression, Stochastic Gradient Descent Classifier and K Nearest Neighbour Classifier\n",
        "logsTrainx, logsTrainy, logsTestx, logsTesty = sctrainx.copy(), trainy.copy(), sctestx.copy(), testy.copy()\n",
        "sgdTrainx, sgdTrainy, sgdTestx, sgdTesty = sctrainx.copy(), trainy.copy(), sctestx.copy(), testy.copy()\n",
        "knnTrainx, knnTrainy, knnTestx, knnTesty = sctrainx.copy(), trainy.copy(), sctestx.copy(), testy.copy()"
      ]
    },
    {
      "cell_type": "code",
      "execution_count": 7,
      "metadata": {
        "id": "dya77b2RR8iA"
      },
      "outputs": [],
      "source": [
        "# Preparation of data for binary neural network with valid data\n",
        "nnTrain_binary, nn_test_valid_binary =  fulltrain.copy(), fulltest.copy()\n",
        "nnTest_binary, nnValid_binary = train_test_split(nn_test_valid_binary, test_size=0.5)\n",
        "\n",
        "nnTrainx_binary, nnTrainy_binary = nnTrain_binary.copy().drop(columns = ([\"next_Fri\",\"y\"])), nnTrain_binary[\"y\"]\n",
        "nnTestx_binary, nnTesty_binary = nnTest_binary.copy().drop(columns = ([\"next_Fri\",\"y\"])), nnTest_binary[\"y\"]\n",
        "nnValidx_binary, nnValidy_binary = nnValid_binary.copy().drop(columns = ([\"next_Fri\",\"y\"])), nnValid_binary[\"y\"]\n",
        "\n",
        "# Standardizing the x data\n",
        "nnTrainx_binary = scale.fit_transform(nnTrainx_binary)\n",
        "nnTestx_binary = scale.fit_transform(nnTestx_binary)\n",
        "nnValidx_binary = scale.fit_transform(nnValidx_binary)"
      ]
    },
    {
      "cell_type": "markdown",
      "metadata": {
        "id": "AVHa12iMocyB"
      },
      "source": [
        "# 3. Prediction Models"
      ]
    },
    {
      "cell_type": "markdown",
      "metadata": {
        "id": "M8FULyTaoqCg"
      },
      "source": [
        "**3.1. Neural Network (Non-binary)**"
      ]
    },
    {
      "cell_type": "code",
      "execution_count": 8,
      "metadata": {
        "colab": {
          "base_uri": "https://localhost:8080/"
        },
        "id": "w3tF95-Bw9sr",
        "outputId": "f53ef62a-3f14-482f-9651-76f8090078d3"
      },
      "outputs": [
        {
          "name": "stdout",
          "output_type": "stream",
          "text": [
            "Epoch 1/10\n",
            "3824/3824 [==============================] - 64s 15ms/step - loss: 2619.2834 - mean_absolute_error: 10.3960 - val_loss: 111.5657 - val_mean_absolute_error: 4.4541\n",
            "Epoch 2/10\n",
            "3824/3824 [==============================] - 42s 11ms/step - loss: 85.7782 - mean_absolute_error: 3.8971 - val_loss: 154.9315 - val_mean_absolute_error: 4.7034\n",
            "Epoch 3/10\n",
            "3824/3824 [==============================] - 44s 12ms/step - loss: 76.0893 - mean_absolute_error: 3.7611 - val_loss: 101.7136 - val_mean_absolute_error: 5.5914\n",
            "Epoch 4/10\n",
            "3824/3824 [==============================] - 43s 11ms/step - loss: 73.4897 - mean_absolute_error: 3.6536 - val_loss: 135.1807 - val_mean_absolute_error: 5.0433\n",
            "Epoch 5/10\n",
            "3824/3824 [==============================] - 45s 12ms/step - loss: 72.3809 - mean_absolute_error: 3.5774 - val_loss: 125.2385 - val_mean_absolute_error: 5.2065\n",
            "Epoch 6/10\n",
            "3824/3824 [==============================] - 43s 11ms/step - loss: 70.9136 - mean_absolute_error: 3.4735 - val_loss: 91.3460 - val_mean_absolute_error: 4.4747\n",
            "Epoch 7/10\n",
            "3824/3824 [==============================] - 44s 12ms/step - loss: 69.1318 - mean_absolute_error: 3.4262 - val_loss: 67.2566 - val_mean_absolute_error: 3.2577\n",
            "Epoch 8/10\n",
            "3824/3824 [==============================] - 44s 11ms/step - loss: 68.2501 - mean_absolute_error: 3.3919 - val_loss: 70.0625 - val_mean_absolute_error: 3.1287\n",
            "Epoch 9/10\n",
            "3824/3824 [==============================] - 43s 11ms/step - loss: 66.6815 - mean_absolute_error: 3.3549 - val_loss: 55.4021 - val_mean_absolute_error: 2.8422\n",
            "Epoch 10/10\n",
            "3824/3824 [==============================] - 44s 12ms/step - loss: 67.9482 - mean_absolute_error: 3.3252 - val_loss: 117.7581 - val_mean_absolute_error: 4.2189\n"
          ]
        },
        {
          "data": {
            "text/plain": [
              "<keras.callbacks.History at 0x7f8673ca3110>"
            ]
          },
          "execution_count": 8,
          "metadata": {},
          "output_type": "execute_result"
        }
      ],
      "source": [
        "from tensorflow.keras.optimizers import Adam\n",
        "from tensorflow.keras import layers\n",
        "\n",
        "nn_model_nonbinary = Sequential([layers.Input((20, 1)),\n",
        "                    layers.LSTM(64),\n",
        "                    layers.Dense(32, activation='relu'),\n",
        "                    layers.Dense(32, activation='relu'),\n",
        "                    layers.Dense(1)])\n",
        "\n",
        "nn_model_nonbinary.compile(loss='mse', \n",
        "              optimizer=Adam(learning_rate=0.001),\n",
        "              metrics=['mean_absolute_error'])\n",
        "\n",
        "nn_model_nonbinary.fit(nnTrainx_nonbinary, nnTrainy_nonbinary, validation_data=(nnValidx_nonbinary, nnValidy_nonbinary), epochs=10)"
      ]
    },
    {
      "cell_type": "code",
      "execution_count": 9,
      "metadata": {
        "colab": {
          "base_uri": "https://localhost:8080/",
          "height": 350
        },
        "id": "YP24NSFuLFuo",
        "outputId": "2c1e2e99-652d-4944-9ac1-662eedcd173a"
      },
      "outputs": [
        {
          "name": "stdout",
          "output_type": "stream",
          "text": [
            "1275/1275 [==============================] - 6s 4ms/step\n",
            "Final true capital:  58247.49565568122\n",
            "Final predicted capital:  9479.365431214\n"
          ]
        },
        {
          "data": {
            "image/png": "[encoded data removed]",
            "text/plain": [
              "<Figure size 432x288 with 1 Axes>"
            ]
          },
          "metadata": {
            "needs_background": "light"
          },
          "output_type": "display_data"
        }
      ],
      "source": [
        "# Simulation of giving bot $1000 with neural network model\n",
        "money1 = 1000\n",
        "money2 = 1000\n",
        "predicted_capital = [money1]\n",
        "true_capital = [money2]\n",
        "nn_predicted_nonbinary = np.array(nn_model_nonbinary.predict(nnTestx_nonbinary).flatten())\n",
        "x = np.array(true_friday_price_comparison_nonbinary)\n",
        "\n",
        "for n in range(len(x)-1):\n",
        "  # Check if model predict price to increase\n",
        "  if nn_predicted_nonbinary[n] > x[n,0]:\n",
        "    buy_price1 = x[n,0] \n",
        "    sell_price1 = x[n,1]\n",
        "\n",
        "    profit1 = sell_price1 - buy_price1\n",
        "    money1 += profit1\n",
        "    predicted_capital.append(money1)\n",
        "    \n",
        "  if x[n,1] > x[n,0]:\n",
        "    buy_price2 = x[n,0] \n",
        "    sell_price2 = x[n,1]\n",
        "  \n",
        "    profit2 = sell_price2 - buy_price2\n",
        "    money2 += profit2\n",
        "    true_capital.append(money2)\n",
        "\n",
        "plt.plot(list(range(len(predicted_capital))),predicted_capital, color = \"blue\", label = \"Predicted\")\n",
        "plt.plot(list(range(len(true_capital))),true_capital, color = \"orange\", label = \"True\")\n",
        "plt.xlabel('Number of trades')\n",
        "plt.ylabel('Amount of Capital')\n",
        "plt.title(\"Neural Network Model (Non-Binary)\")\n",
        "plt.legend()\n",
        "\n",
        "print(\"Final true capital: \", true_capital[-1])\n",
        "print(\"Final predicted capital: \", predicted_capital[-1])\n"
      ]
    },
    {
      "cell_type": "markdown",
      "metadata": {
        "id": "wav74BIuVEN9"
      },
      "source": [
        "**3.2. Logistic Regression**"
      ]
    },
    {
      "cell_type": "code",
      "execution_count": 10,
      "metadata": {
        "colab": {
          "base_uri": "https://localhost:8080/"
        },
        "id": "70vp2n5qR8h_",
        "outputId": "ed2f665e-be9c-4b4d-a208-bb98f0d760e6"
      },
      "outputs": [
        {
          "name": "stdout",
          "output_type": "stream",
          "text": [
            "Logistic Regression: 54.12999239953907%\n"
          ]
        }
      ],
      "source": [
        "from sklearn.linear_model import LogisticRegression\n",
        "\n",
        "logistics_regression = LogisticRegression(solver='liblinear')\n",
        "logistics_regression.fit(logsTrainx, logsTrainy)\n",
        "print(\"Logistic Regression: {}%\".format(logistics_regression.score(logsTestx, logsTesty)*100))"
      ]
    },
    {
      "cell_type": "code",
      "execution_count": 11,
      "metadata": {
        "colab": {
          "base_uri": "https://localhost:8080/",
          "height": 332
        },
        "id": "Fvhnlbk32VQf",
        "outputId": "90d3698b-0844-447a-f0f1-23494fa8eab9"
      },
      "outputs": [
        {
          "name": "stdout",
          "output_type": "stream",
          "text": [
            "Final true capital:  58201.21596009092\n",
            "Final predicted capital:  10546.362652134945\n"
          ]
        },
        {
          "data": {
            "image/png": "[encoded data removed]",
            "text/plain": [
              "<Figure size 432x288 with 1 Axes>"
            ]
          },
          "metadata": {
            "needs_background": "light"
          },
          "output_type": "display_data"
        }
      ],
      "source": [
        "# Simulation of giving bot $1000 with log regression model\n",
        "money1 = 1000\n",
        "money2 = 1000\n",
        "predicted_capital = [money1]\n",
        "true_capital = [money2]\n",
        "true = np.array(logsTesty)\n",
        "logs_predicted = np.array(logistics_regression.predict(logsTestx))\n",
        "x = np.array(true_friday_price_comparison)\n",
        "\n",
        "for n in range(len(logs_predicted)-1):\n",
        "  # Check if model predict price to increase\n",
        "  if logs_predicted[n] == 1:\n",
        "    buy_price1 = x[n,0] \n",
        "    sell_price1 = x[n,1]\n",
        "\n",
        "    profit1 = sell_price1 - buy_price1\n",
        "    money1 += profit1\n",
        "    predicted_capital.append(money1)\n",
        "    \n",
        "  if true[n]:\n",
        "    buy_price2 = x[n,0] \n",
        "    sell_price2 = x[n,1]\n",
        "  \n",
        "    profit2 = sell_price2 - buy_price2\n",
        "    money2 += profit2\n",
        "    true_capital.append(money2)\n",
        "\n",
        "plt.plot(list(range(len(predicted_capital))),predicted_capital, color = \"blue\", label = \"Predicted\")\n",
        "plt.plot(list(range(len(true_capital))),true_capital, color = \"orange\", label = \"True\")\n",
        "plt.xlabel('Number of trades')\n",
        "plt.ylabel('Amount of Capital')\n",
        "plt.title(\"Logistic Regression Model\")\n",
        "plt.legend()\n",
        "\n",
        "print(\"Final true capital: \", true_capital[-1])\n",
        "print(\"Final predicted capital: \", predicted_capital[-1])"
      ]
    },
    {
      "cell_type": "markdown",
      "metadata": {
        "id": "L0JsyVgBR8h_"
      },
      "source": [
        "**3.3. Stochastic Gradient Descent Classifier**"
      ]
    },
    {
      "cell_type": "code",
      "execution_count": 12,
      "metadata": {
        "colab": {
          "base_uri": "https://localhost:8080/"
        },
        "id": "L7ldj1JZR8h_",
        "outputId": "6e298487-48ab-410a-c793-b0d465527dde"
      },
      "outputs": [
        {
          "name": "stdout",
          "output_type": "stream",
          "text": [
            "Stochastic Gradient Descent Classifier: 53.97798318091549%\n"
          ]
        }
      ],
      "source": [
        "from sklearn.linear_model import SGDClassifier\n",
        "sgd_classifier = SGDClassifier(max_iter=1000, tol=0.01)\n",
        "sgd_classifier.fit(sgdTrainx, sgdTrainy)\n",
        "print(\"Stochastic Gradient Descent Classifier: {}%\".format(sgd_classifier.score(sgdTestx, sgdTesty)*100))"
      ]
    },
    {
      "cell_type": "code",
      "execution_count": 13,
      "metadata": {
        "colab": {
          "base_uri": "https://localhost:8080/",
          "height": 332
        },
        "id": "GvsSQtoT2Xk6",
        "outputId": "595150d6-24cc-468b-fdfe-e423251bf141"
      },
      "outputs": [
        {
          "name": "stdout",
          "output_type": "stream",
          "text": [
            "Final true capital:  58201.21596009092\n",
            "Final predicted capital:  9083.196253494969\n"
          ]
        },
        {
          "data": {
            "image/png": "[encoded data removed]",
            "text/plain": [
              "<Figure size 432x288 with 1 Axes>"
            ]
          },
          "metadata": {
            "needs_background": "light"
          },
          "output_type": "display_data"
        }
      ],
      "source": [
        "# Simulation of giving bot $1000 with sgd classifier model\n",
        "money1 = 1000\n",
        "money2 = 1000\n",
        "predicted_capital = [money1]\n",
        "true_capital = [money2]\n",
        "true = np.array(sgdTesty)\n",
        "sgd_predicted = np.array(sgd_classifier.predict(sgdTestx))\n",
        "x = np.array(true_friday_price_comparison)\n",
        "\n",
        "for n in range(len(sgd_predicted)-1):\n",
        "  # Check if model predict price to increase\n",
        "  if sgd_predicted[n] == 1:\n",
        "    buy_price1 = x[n,0] \n",
        "    sell_price1 = x[n,1]\n",
        "\n",
        "    profit1 = sell_price1 - buy_price1\n",
        "    money1 += profit1\n",
        "    predicted_capital.append(money1)\n",
        "    \n",
        "  if true[n]:\n",
        "    buy_price2 = x[n,0] \n",
        "    sell_price2 = x[n,1]\n",
        "  \n",
        "    profit2 = sell_price2 - buy_price2\n",
        "    money2 += profit2\n",
        "    true_capital.append(money2)\n",
        "\n",
        "plt.plot(list(range(len(predicted_capital))),predicted_capital, color = \"blue\", label = \"Predicted\")\n",
        "plt.plot(list(range(len(true_capital))),true_capital, color = \"orange\", label = \"True\")\n",
        "plt.xlabel('Number of trades')\n",
        "plt.ylabel('Amount of Capital')\n",
        "plt.title(\"Stochastic Gradient Descent Classifier Model\")\n",
        "plt.legend()\n",
        "\n",
        "print(\"Final true capital: \", true_capital[-1])\n",
        "print(\"Final predicted capital: \", predicted_capital[-1])"
      ]
    },
    {
      "cell_type": "markdown",
      "metadata": {
        "id": "pCFCOiXSR8h_"
      },
      "source": [
        " **3.4. K Nearest Neighbor Classifier**"
      ]
    },
    {
      "cell_type": "code",
      "execution_count": 14,
      "metadata": {
        "colab": {
          "base_uri": "https://localhost:8080/"
        },
        "id": "Ow4M2mAVR8iA",
        "outputId": "f05a2210-40ca-4f04-b4fe-25edbdcde6f3"
      },
      "outputs": [
        {
          "name": "stdout",
          "output_type": "stream",
          "text": [
            "K Nearest Neighbor Classifier: 53.882364478878074%\n"
          ]
        }
      ],
      "source": [
        "from math import sqrt\n",
        "from sklearn.neighbors import KNeighborsClassifier\n",
        "\n",
        "knn_classifier = KNeighborsClassifier(n_neighbors = int(sqrt(len(knnTrainx))))\n",
        "knn_classifier.fit(knnTrainx, knnTrainy)\n",
        "print(\"K Nearest Neighbor Classifier: {}%\".format(knn_classifier.score(knnTestx, knnTesty)*100))"
      ]
    },
    {
      "cell_type": "code",
      "execution_count": 15,
      "metadata": {
        "colab": {
          "base_uri": "https://localhost:8080/",
          "height": 332
        },
        "id": "iv7CJJ2UBlb-",
        "outputId": "f0d798a2-8cde-4702-ae29-e512bca96d13"
      },
      "outputs": [
        {
          "name": "stdout",
          "output_type": "stream",
          "text": [
            "Final true capital:  58201.21596009092\n",
            "Final predicted capital:  9217.35105349498\n"
          ]
        },
        {
          "data": {
            "image/png": "[encoded data removed]",
            "text/plain": [
              "<Figure size 432x288 with 1 Axes>"
            ]
          },
          "metadata": {
            "needs_background": "light"
          },
          "output_type": "display_data"
        }
      ],
      "source": [
        "# Simulation of giving bot $1000 with knn classifier model\n",
        "money1 = 1000\n",
        "money2 = 1000\n",
        "predicted_capital = [money1]\n",
        "true_capital = [money2]\n",
        "true = np.array(knnTesty)\n",
        "knn_predicted = np.array(knn_classifier.predict(knnTestx))\n",
        "x = np.array(true_friday_price_comparison)\n",
        "\n",
        "for n in range(len(sgd_predicted)-1):\n",
        "  # Check if model predict price to increase\n",
        "  if knn_predicted[n] == 1:\n",
        "    buy_price1 = x[n,0] \n",
        "    sell_price1 = x[n,1]\n",
        "\n",
        "    profit1 = sell_price1 - buy_price1\n",
        "    money1 += profit1\n",
        "    predicted_capital.append(money1)\n",
        "    \n",
        "  if true[n]:\n",
        "    buy_price2 = x[n,0] \n",
        "    sell_price2 = x[n,1]\n",
        "  \n",
        "    profit2 = sell_price2 - buy_price2\n",
        "    money2 += profit2\n",
        "    true_capital.append(money2)\n",
        "\n",
        "plt.plot(list(range(len(predicted_capital))),predicted_capital, color = \"blue\", label = \"Predicted\")\n",
        "plt.plot(list(range(len(true_capital))),true_capital, color = \"orange\", label = \"True\")\n",
        "plt.xlabel('Number of trades')\n",
        "plt.ylabel('Amount of Capital')\n",
        "plt.title(\"K Nearest Neighbor Classifier Model\")\n",
        "plt.legend()\n",
        "\n",
        "print(\"Final true capital: \", true_capital[-1])\n",
        "print(\"Final predicted capital: \", predicted_capital[-1])"
      ]
    },
    {
      "cell_type": "markdown",
      "metadata": {
        "id": "DWUd2Ak3q6gd"
      },
      "source": [
        "# **4. Tuning Parameters**"
      ]
    },
    {
      "cell_type": "markdown",
      "metadata": {
        "id": "m0w_vfZArAWW"
      },
      "source": [
        "**4.1. Solver**"
      ]
    },
    {
      "cell_type": "markdown",
      "metadata": {
        "id": "fQVaA5iwrJlK"
      },
      "source": [
        "4.1.1. Solver: \"liblinear\" (Default)"
      ]
    },
    {
      "cell_type": "code",
      "execution_count": 16,
      "metadata": {
        "colab": {
          "base_uri": "https://localhost:8080/",
          "height": 350
        },
        "id": "vRHjqhKkrEyK",
        "outputId": "468bf6e0-9af7-45fd-bc79-bac571df4ddb"
      },
      "outputs": [
        {
          "name": "stdout",
          "output_type": "stream",
          "text": [
            "Logistic Regression Accuracy: 54.12999239953907%\n",
            "Final true capital:  58201.21596009092\n",
            "Final predicted capital:  10546.362652134945\n"
          ]
        },
        {
          "data": {
            "image/png": "[encoded data removed]",
            "text/plain": [
              "<Figure size 432x288 with 1 Axes>"
            ]
          },
          "metadata": {
            "needs_background": "light"
          },
          "output_type": "display_data"
        }
      ],
      "source": [
        "logistics_regression1 = LogisticRegression(solver='liblinear')\n",
        "logistics_regression1.fit(logsTrainx, logsTrainy)\n",
        "print(\"Logistic Regression Accuracy: {}%\".format(logistics_regression1.score(logsTestx, logsTesty)*100))\n",
        "\n",
        "# Simulation of giving bot $1000 with log regression model\n",
        "money1 = 1000\n",
        "money2 = 1000\n",
        "predicted_capital = [money1]\n",
        "true_capital = [money2]\n",
        "true = np.array(logsTesty)\n",
        "logs_predicted = np.array(logistics_regression1.predict(logsTestx))\n",
        "x = np.array(true_friday_price_comparison)\n",
        "\n",
        "for n in range(len(logs_predicted)-1):\n",
        "  # Check if moodel predict price to increase\n",
        "  if logs_predicted[n] == 1:\n",
        "    buy_price1 = x[n,0] \n",
        "    sell_price1 = x[n,1]\n",
        "\n",
        "    profit1 = sell_price1 - buy_price1\n",
        "    money1 += profit1\n",
        "    predicted_capital.append(money1)\n",
        "    \n",
        "  if true[n]:\n",
        "    buy_price2 = x[n,0] \n",
        "    sell_price2 = x[n,1]\n",
        "  \n",
        "    profit2 = sell_price2 - buy_price2\n",
        "    money2 += profit2\n",
        "    true_capital.append(money2)\n",
        "\n",
        "plt.plot(list(range(len(predicted_capital))),predicted_capital, color = \"blue\", label = \"Predicted\")\n",
        "plt.plot(list(range(len(true_capital))),true_capital, color = \"orange\", label = \"True\")\n",
        "plt.xlabel('Number of trades')\n",
        "plt.ylabel('Amount of Capital')\n",
        "plt.title(\"Logistic Regression Model (liblinear)\")\n",
        "plt.legend()\n",
        "\n",
        "print(\"Final true capital: \", true_capital[-1])\n",
        "print(\"Final predicted capital: \", predicted_capital[-1])"
      ]
    },
    {
      "cell_type": "markdown",
      "metadata": {
        "id": "mBSQrdFUrn7k"
      },
      "source": [
        "4.1.2. Solver: \"lbfgs\""
      ]
    },
    {
      "cell_type": "code",
      "execution_count": 17,
      "metadata": {
        "colab": {
          "base_uri": "https://localhost:8080/",
          "height": 350
        },
        "id": "BPcX_wcQrzon",
        "outputId": "0f6803a5-5b8f-4140-a186-df50d96132e0"
      },
      "outputs": [
        {
          "name": "stdout",
          "output_type": "stream",
          "text": [
            "Logistic Regression Accuracy: 54.13979944590188%\n",
            "Final true capital:  58201.21596009092\n",
            "Final predicted capital:  10591.342611004935\n"
          ]
        },
        {
          "data": {
            "image/png": "[encoded data removed]",
            "text/plain": [
              "<Figure size 432x288 with 1 Axes>"
            ]
          },
          "metadata": {
            "needs_background": "light"
          },
          "output_type": "display_data"
        }
      ],
      "source": [
        "logistics_regression2 = LogisticRegression(solver='lbfgs')\n",
        "logistics_regression2.fit(logsTrainx, logsTrainy)\n",
        "print(\"Logistic Regression Accuracy: {}%\".format(logistics_regression2.score(logsTestx, logsTesty)*100))\n",
        "\n",
        "# Simulation of giving bot $1000 with log regression model\n",
        "money1 = 1000\n",
        "money2 = 1000\n",
        "predicted_capital = [money1]\n",
        "true_capital = [money2]\n",
        "true = np.array(logsTesty)\n",
        "logs_predicted = np.array(logistics_regression2.predict(logsTestx))\n",
        "x = np.array(true_friday_price_comparison)\n",
        "\n",
        "for n in range(len(logs_predicted)-1):\n",
        "  # Check if model predict price to increase\n",
        "  if logs_predicted[n] == 1:\n",
        "    buy_price1 = x[n,0] \n",
        "    sell_price1 = x[n,1]\n",
        "\n",
        "    profit1 = sell_price1 - buy_price1\n",
        "    money1 += profit1\n",
        "    predicted_capital.append(money1)\n",
        "    \n",
        "  if true[n]:\n",
        "    buy_price2 = x[n,0] \n",
        "    sell_price2 = x[n,1]\n",
        "  \n",
        "    profit2 = sell_price2 - buy_price2\n",
        "    money2 += profit2\n",
        "    true_capital.append(money2)\n",
        "\n",
        "plt.plot(list(range(len(predicted_capital))),predicted_capital, color = \"blue\", label = \"Predicted\")\n",
        "plt.plot(list(range(len(true_capital))),true_capital, color = \"orange\", label = \"True\")\n",
        "plt.xlabel('Number of trades')\n",
        "plt.ylabel('Amount of Capital')\n",
        "plt.title(\"Logistic Regression Model (lbfgs)\")\n",
        "plt.legend()\n",
        "\n",
        "print(\"Final true capital: \", true_capital[-1])\n",
        "print(\"Final predicted capital: \", predicted_capital[-1])"
      ]
    },
    {
      "cell_type": "markdown",
      "metadata": {
        "id": "uzJrgfBfsHT1"
      },
      "source": [
        "**4.1.3. Solver: \"newton-cg\"**"
      ]
    },
    {
      "cell_type": "code",
      "execution_count": 18,
      "metadata": {
        "colab": {
          "base_uri": "https://localhost:8080/",
          "height": 350
        },
        "id": "oyIc4Nzcsc9g",
        "outputId": "7ac9b978-07fc-46c9-e504-93b671c327a1"
      },
      "outputs": [
        {
          "name": "stdout",
          "output_type": "stream",
          "text": [
            "Logistic Regression Accuracy: 54.12999239953907%\n",
            "Final true capital:  58201.21596009092\n",
            "Final predicted capital:  10546.362652134945\n"
          ]
        },
        {
          "data": {
            "image/png": "[encoded data removed]",
            "text/plain": [
              "<Figure size 432x288 with 1 Axes>"
            ]
          },
          "metadata": {
            "needs_background": "light"
          },
          "output_type": "display_data"
        }
      ],
      "source": [
        "logistics_regression3 = None\n",
        "logistics_regression3 = LogisticRegression(solver='newton-cg')\n",
        "logistics_regression3.fit(logsTrainx, logsTrainy)\n",
        "print(\"Logistic Regression Accuracy: {}%\".format(logistics_regression3.score(logsTestx, logsTesty)*100))\n",
        "\n",
        "# Simulation of giving bot $1000 with log regression model\n",
        "money1 = 1000\n",
        "money2 = 1000\n",
        "predicted_capital = [money1]\n",
        "true_capital = [money2]\n",
        "true = np.array(logsTesty)\n",
        "logs_predicted = np.array(logistics_regression3.predict(logsTestx))\n",
        "x = np.array(true_friday_price_comparison)\n",
        "\n",
        "for n in range(len(logs_predicted)-1):\n",
        "  # Check if model predict price to increase\n",
        "  if logs_predicted[n] == 1:\n",
        "    buy_price1 = x[n,0] \n",
        "    sell_price1 = x[n,1]\n",
        "\n",
        "    profit1 = sell_price1 - buy_price1\n",
        "    money1 += profit1\n",
        "    predicted_capital.append(money1)\n",
        "    \n",
        "  if true[n]:\n",
        "    buy_price2 = x[n,0] \n",
        "    sell_price2 = x[n,1]\n",
        "  \n",
        "    profit2 = sell_price2 - buy_price2\n",
        "    money2 += profit2\n",
        "    true_capital.append(money2)\n",
        "\n",
        "plt.plot(list(range(len(predicted_capital))),predicted_capital, color = \"blue\", label = \"Predicted\")\n",
        "plt.plot(list(range(len(true_capital))),true_capital, color = \"orange\", label = \"True\")\n",
        "plt.xlabel('Number of trades')\n",
        "plt.ylabel('Amount of Capital')\n",
        "plt.title(\"Logistic Regression Model (newton-cg)\")\n",
        "plt.legend()\n",
        "\n",
        "print(\"Final true capital: \", true_capital[-1])\n",
        "print(\"Final predicted capital: \", predicted_capital[-1])"
      ]
    },
    {
      "cell_type": "markdown",
      "metadata": {
        "id": "DN3vWw5vudy7"
      },
      "source": [
        "**4.2. Proportion of train to test data**"
      ]
    },
    {
      "cell_type": "markdown",
      "metadata": {
        "id": "DV62vXjkuhbu"
      },
      "source": [
        "4.2.1. 80% Train, 20% Test (Default)"
      ]
    },
    {
      "cell_type": "code",
      "execution_count": 19,
      "metadata": {
        "colab": {
          "base_uri": "https://localhost:8080/",
          "height": 350
        },
        "id": "GsbBviybuuf5",
        "outputId": "fe09c97b-fb05-4660-e6e4-737d2637441f"
      },
      "outputs": [
        {
          "name": "stdout",
          "output_type": "stream",
          "text": [
            "Logistic Regression Accuracy: 54.13979944590188%\n",
            "Final true capital:  58201.21596009092\n",
            "Final predicted capital:  10591.342611004935\n"
          ]
        },
        {
          "data": {
            "image/png": "[encoded data removed]",
            "text/plain": [
              "<Figure size 432x288 with 1 Axes>"
            ]
          },
          "metadata": {
            "needs_background": "light"
          },
          "output_type": "display_data"
        }
      ],
      "source": [
        "## fulltrain and fulltest contains next_Fri closing price which will not be used to train the model\n",
        "fulltrain1, fulltest1 = train_test_split(data, test_size=0.2, random_state = 42)\n",
        "trainx, trainy = fulltrain1.copy().drop(columns = ([\"next_Fri\",\"y\"])), fulltrain1[\"y\"]\n",
        "testx, testy = fulltest1.copy().drop(columns = ([\"next_Fri\",\"y\"])), fulltest1[\"y\"]\n",
        "true_friday_price_comparison = fulltest1[[\"close_Friday\", \"next_Fri\"]]\n",
        "\n",
        "# Standardizing the x data\n",
        "sctrainx = scale.fit_transform(trainx)\n",
        "sctestx = scale.fit_transform(testx)\n",
        "\n",
        "logistics_regression4 = None\n",
        "logistics_regression4 = LogisticRegression(solver='lbfgs')\n",
        "logistics_regression4.fit(sctrainx, trainy)\n",
        "print(\"Logistic Regression Accuracy: {}%\".format(logistics_regression4.score(sctestx, testy)*100))\n",
        "\n",
        "# Simulation of giving bot $1000 with log regression model\n",
        "money1 = 1000\n",
        "money2 = 1000\n",
        "predicted_capital = [money1]\n",
        "true_capital = [money2]\n",
        "true = np.array(testy)\n",
        "logs_predicted = np.array(logistics_regression4.predict(sctestx))\n",
        "x = np.array(true_friday_price_comparison)\n",
        "\n",
        "for n in range(len(logs_predicted)-1):\n",
        "  # Check if model predict price to increase\n",
        "  if logs_predicted[n] == 1:\n",
        "    buy_price1 = x[n,0] \n",
        "    sell_price1 = x[n,1]\n",
        "\n",
        "    profit1 = sell_price1 - buy_price1\n",
        "    money1 += profit1\n",
        "    predicted_capital.append(money1)\n",
        "    \n",
        "  if true[n]:\n",
        "    buy_price2 = x[n,0] \n",
        "    sell_price2 = x[n,1]\n",
        "  \n",
        "    profit2 = sell_price2 - buy_price2\n",
        "    money2 += profit2\n",
        "    true_capital.append(money2)\n",
        "\n",
        "plt.plot(list(range(len(predicted_capital))),predicted_capital, color = \"blue\", label = \"Predicted\")\n",
        "plt.plot(list(range(len(true_capital))),true_capital, color = \"orange\", label = \"True\")\n",
        "plt.xlabel('Number of trades')\n",
        "plt.ylabel('Amount of Capital')\n",
        "plt.title(\"Logistic Regression Model (80% Train, 20% Test))\")\n",
        "plt.legend()\n",
        "\n",
        "print(\"Final true capital: \", true_capital[-1])\n",
        "print(\"Final predicted capital: \", predicted_capital[-1])"
      ]
    },
    {
      "cell_type": "markdown",
      "metadata": {
        "id": "NcqwntmW0PIU"
      },
      "source": [
        "4.2.2. 70% Train, 30% Test"
      ]
    },
    {
      "cell_type": "code",
      "execution_count": 20,
      "metadata": {
        "colab": {
          "base_uri": "https://localhost:8080/",
          "height": 350
        },
        "id": "G9WaqSKzvyRP",
        "outputId": "8b0171f5-088d-4494-9c63-7617ec5089b0"
      },
      "outputs": [
        {
          "name": "stdout",
          "output_type": "stream",
          "text": [
            "Logistic Regression Accuracy: 54.13533834586466%\n",
            "Final true capital:  88280.07657955487\n",
            "Final predicted capital:  15801.941983536088\n"
          ]
        },
        {
          "data": {
            "image/png": "[encoded data removed]",
            "text/plain": [
              "<Figure size 432x288 with 1 Axes>"
            ]
          },
          "metadata": {
            "needs_background": "light"
          },
          "output_type": "display_data"
        }
      ],
      "source": [
        "## fulltrain and fulltest contains next_Fri closing price which will not be used to train the model\n",
        "fulltrain2, fulltest2 = train_test_split(data, test_size=0.3, random_state = 42)\n",
        "trainx, trainy = fulltrain2.copy().drop(columns = ([\"next_Fri\",\"y\"])), fulltrain2[\"y\"]\n",
        "testx, testy = fulltest2.copy().drop(columns = ([\"next_Fri\",\"y\"])), fulltest2[\"y\"]\n",
        "true_friday_price_comparison = fulltest2[[\"close_Friday\", \"next_Fri\"]]\n",
        "\n",
        "# Standardizing the x data\n",
        "sctrainx = scale.fit_transform(trainx)\n",
        "sctestx = scale.fit_transform(testx)\n",
        "\n",
        "logistics_regression4 = None\n",
        "logistics_regression4 = LogisticRegression(solver='lbfgs')\n",
        "logistics_regression4.fit(sctrainx, trainy)\n",
        "print(\"Logistic Regression Accuracy: {}%\".format(logistics_regression4.score(sctestx, testy)*100))\n",
        "\n",
        "# Simulation of giving bot $1000 with log regression model\n",
        "money1 = 1000\n",
        "money2 = 1000\n",
        "predicted_capital = [money1]\n",
        "true_capital = [money2]\n",
        "true = np.array(testy)\n",
        "logs_predicted = np.array(logistics_regression4.predict(sctestx))\n",
        "x = np.array(true_friday_price_comparison)\n",
        "\n",
        "for n in range(len(logs_predicted)-1):\n",
        "  # Check if model predict price to increase\n",
        "  if logs_predicted[n] == 1:\n",
        "    buy_price1 = x[n,0] \n",
        "    sell_price1 = x[n,1]\n",
        "\n",
        "    profit1 = sell_price1 - buy_price1\n",
        "    money1 += profit1\n",
        "    predicted_capital.append(money1)\n",
        "    \n",
        "  if true[n]:\n",
        "    buy_price2 = x[n,0] \n",
        "    sell_price2 = x[n,1]\n",
        "  \n",
        "    profit2 = sell_price2 - buy_price2\n",
        "    money2 += profit2\n",
        "    true_capital.append(money2)\n",
        "\n",
        "plt.plot(list(range(len(predicted_capital))),predicted_capital, color = \"blue\", label = \"Predicted\")\n",
        "plt.plot(list(range(len(true_capital))),true_capital, color = \"orange\", label = \"True\")\n",
        "plt.xlabel('Number of trades')\n",
        "plt.ylabel('Amount of Capital')\n",
        "plt.title(\"Logistic Regression Model (70% Train, 30% Test))\")\n",
        "plt.legend()\n",
        "\n",
        "print(\"Final true capital: \", true_capital[-1])\n",
        "print(\"Final predicted capital: \", predicted_capital[-1])"
      ]
    },
    {
      "cell_type": "markdown",
      "metadata": {
        "id": "-QGRGPAS0X6P"
      },
      "source": [
        "4.2.3. 90% Train, 10% Test"
      ]
    },
    {
      "cell_type": "code",
      "execution_count": 21,
      "metadata": {
        "colab": {
          "base_uri": "https://localhost:8080/",
          "height": 350
        },
        "id": "fuX1w4_ezZC6",
        "outputId": "9f12515c-5ed6-4f63-f835-50ff2ec3db76"
      },
      "outputs": [
        {
          "name": "stdout",
          "output_type": "stream",
          "text": [
            "Logistic Regression Accuracy: 54.38364224771992%\n",
            "Final true capital:  29862.44648345797\n",
            "Final predicted capital:  6247.922539365984\n"
          ]
        },
        {
          "data": {
            "image/png": "[encoded data removed]",
            "text/plain": [
              "<Figure size 432x288 with 1 Axes>"
            ]
          },
          "metadata": {
            "needs_background": "light"
          },
          "output_type": "display_data"
        }
      ],
      "source": [
        "## fulltrain and fulltest contains next_Fri closing price which will not be used to train the model\n",
        "fulltrain3, fulltest3 = train_test_split(data, test_size=0.1, random_state = 42)\n",
        "trainx, trainy = fulltrain3.copy().drop(columns = ([\"next_Fri\",\"y\"])), fulltrain3[\"y\"]\n",
        "testx, testy = fulltest3.copy().drop(columns = ([\"next_Fri\",\"y\"])), fulltest3[\"y\"]\n",
        "true_friday_price_comparison = fulltest3[[\"close_Friday\", \"next_Fri\"]]\n",
        "\n",
        "# Standardizing the x data\n",
        "sctrainx = scale.fit_transform(trainx)\n",
        "sctestx = scale.fit_transform(testx)\n",
        "\n",
        "logistics_regression4 = None\n",
        "logistics_regression4 = LogisticRegression(solver='lbfgs', max_iter=1000)\n",
        "logistics_regression4.fit(sctrainx, trainy)\n",
        "print(\"Logistic Regression Accuracy: {}%\".format(logistics_regression4.score(sctestx, testy)*100))\n",
        "\n",
        "# Simulation of giving bot $1000 with log regression model\n",
        "money1 = 1000\n",
        "money2 = 1000\n",
        "predicted_capital = [money1]\n",
        "true_capital = [money2]\n",
        "true = np.array(testy)\n",
        "logs_predicted = np.array(logistics_regression4.predict(sctestx))\n",
        "x = np.array(true_friday_price_comparison)\n",
        "\n",
        "for n in range(len(logs_predicted)-1):\n",
        "  # Check if model predict price to increase\n",
        "  if logs_predicted[n] == 1:\n",
        "    buy_price1 = x[n,0] \n",
        "    sell_price1 = x[n,1]\n",
        "\n",
        "    profit1 = sell_price1 - buy_price1\n",
        "    money1 += profit1\n",
        "    predicted_capital.append(money1)\n",
        "    \n",
        "  if true[n]:\n",
        "    buy_price2 = x[n,0] \n",
        "    sell_price2 = x[n,1]\n",
        "  \n",
        "    profit2 = sell_price2 - buy_price2\n",
        "    money2 += profit2\n",
        "    true_capital.append(money2)\n",
        "\n",
        "plt.plot(list(range(len(predicted_capital))),predicted_capital, color = \"blue\", label = \"Predicted\")\n",
        "plt.plot(list(range(len(true_capital))),true_capital, color = \"orange\", label = \"True\")\n",
        "plt.xlabel('Number of trades')\n",
        "plt.ylabel('Amount of Capital')\n",
        "plt.title(\"Logistic Regression Model (90% Train, 10% Test))\")\n",
        "plt.legend()\n",
        "\n",
        "print(\"Final true capital: \", true_capital[-1])\n",
        "print(\"Final predicted capital: \", predicted_capital[-1])"
      ]
    },
    {
      "cell_type": "markdown",
      "metadata": {
        "id": "RHXe4RUI5cAb"
      },
      "source": [
        "# **END OF CODE**"
      ]
    }
  ],
  "metadata": {
    "colab": {
      "collapsed_sections": [],
      "provenance": []
    },
    "kernelspec": {
      "display_name": "Python 3.9.7 ('tensorflow')",
      "language": "python",
      "name": "python3"
    },
    "language_info": {
      "codemirror_mode": {
        "name": "ipython",
        "version": 3
      },
      "file_extension": ".py",
      "mimetype": "text/x-python",
      "name": "python",
      "nbconvert_exporter": "python",
      "pygments_lexer": "ipython3",
      "version": "3.9.7"
    },
    "vscode": {
      "interpreter": {
        "hash": "4897363a5eb659d12c292cacfcfa29b3ae43540514ac016aad8653766e3329a0"
      }
    }
  },
  "nbformat": 4,
  "nbformat_minor": 0
}
